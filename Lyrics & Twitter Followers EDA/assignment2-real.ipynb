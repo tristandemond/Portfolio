{
 "cells": [
  {
   "cell_type": "code",
   "execution_count": 1,
   "metadata": {},
   "outputs": [],
   "source": [
    "import os\n",
    "import re\n",
    "import emoji\n",
    "import pandas as pd\n",
    "import numpy as np\n",
    "\n",
    "from collections import Counter, defaultdict\n",
    "from nltk.corpus import stopwords\n",
    "from string import punctuation\n",
    "import tokenize"
   ]
  },
  {
   "cell_type": "code",
   "execution_count": 2,
   "metadata": {},
   "outputs": [],
   "source": [
    "# Additional Import Statements\n",
    "import nltk\n",
    "import tokenize\n",
    "import collections"
   ]
  },
  {
   "cell_type": "code",
   "execution_count": 3,
   "metadata": {},
   "outputs": [],
   "source": [
    "# change `data_location` to the location of the folder on your machine.\n",
    "data_location = \"C:\\\\Users\\\\trist\\\\OneDrive\\\\Desktop\\\\Freelance\\\\School\\\\M1 Results\"\n",
    "os.chdir(data_location)\n",
    "\n",
    "# These subfolders should still work if you correctly stored the \n",
    "# data from the Module 1 assignment\n",
    "twitter_folder = \"twitter\"\n",
    "lyrics_folder = \"lyrics\""
   ]
  },
  {
   "cell_type": "code",
   "execution_count": 4,
   "metadata": {},
   "outputs": [],
   "source": [
    "def descriptive_stats(tokens, num_tokens = 5, verbose=True) :\n",
    "\n",
    "    num_tokens= len(tokens)\n",
    "    num_unique_tokens = len(set(tokens))\n",
    "    lexical_diversity = num_unique_tokens/num_tokens\n",
    "    num_characters = len(\"\".join(tokens))\n",
    "\n",
    "    if verbose :        \n",
    "        print(f\"There are {num_tokens} tokens in the data.\")\n",
    "        print(f\"There are {num_unique_tokens} unique tokens in the data.\")\n",
    "        print(f\"There are {num_characters} characters in the data.\")\n",
    "        print(f\"The lexical diversity is {lexical_diversity:.3f} in the data.\")\n",
    "    \n",
    "        # print the five most common tokens\n",
    "        \n",
    "    return([num_tokens, num_unique_tokens,\n",
    "            lexical_diversity,\n",
    "            num_characters])\n",
    "    "
   ]
  },
  {
   "cell_type": "code",
   "execution_count": 5,
   "metadata": {},
   "outputs": [
    {
     "name": "stdout",
     "output_type": "stream",
     "text": [
      "There are 13 tokens in the data.\n",
      "There are 9 unique tokens in the data.\n",
      "There are 55 characters in the data.\n",
      "The lexical diversity is 0.692 in the data.\n"
     ]
    }
   ],
   "source": [
    "text = \"\"\"here is some example text with other example text here in this text\"\"\".split()\n",
    "assert(descriptive_stats(text, verbose=True)[0] == 13)\n",
    "assert(descriptive_stats(text, verbose=False)[1] == 9)\n",
    "assert(abs(descriptive_stats(text, verbose=False)[2] - 0.69) < 0.02)\n",
    "assert(descriptive_stats(text, verbose=False)[3] == 55)"
   ]
  },
  {
   "cell_type": "markdown",
   "metadata": {},
   "source": [
    "# Q: Why is it beneficial to use assertion statements in your code?\n",
    "\n",
    "# A: The primary reseaon to use assert statements is to validate the code before running your code.\n"
   ]
  },
  {
   "cell_type": "markdown",
   "metadata": {},
   "source": [
    "### Data Input\n"
   ]
  },
  {
   "cell_type": "markdown",
   "metadata": {},
   "source": [
    "# Read Lyrics Data"
   ]
  },
  {
   "cell_type": "code",
   "execution_count": 6,
   "metadata": {},
   "outputs": [],
   "source": [
    "def words(text): \n",
    "    return re.findall(r'\\w+', text.lower())\n",
    "\n",
    "artist_folders = os.listdir(\"lyrics/\")\n",
    "artist_folders = [f for f in artist_folders if os.path.isdir(\"lyrics/\" + f)]\n",
    "\n",
    "lyrics_dict = dict()\n",
    "for artist in artist_folders : \n",
    "    lyrics_dict[artist] = dict()\n",
    "    artist_files = os.listdir(\"lyrics/\" + artist)\n",
    "    artist_files = [f for f in artist_files if 'txt' in f or 'csv' in f or 'tsv' in f]\n",
    "    artist_words = []\n",
    "\n",
    "    file=dict()\n",
    "    for f_name in artist_files : \n",
    "        with open(\"lyrics/\" + artist + \"/\" + f_name) as infile : \n",
    "            song = re.split('.txt',f_name)\n",
    "            contents = infile.read()\n",
    "            lyrics_dict[artist][song[0]]=contents\n",
    "\n",
    "\n"
   ]
  },
  {
   "cell_type": "code",
   "execution_count": 7,
   "metadata": {},
   "outputs": [
    {
     "name": "stdout",
     "output_type": "stream",
     "text": [
      "Count Robyn 316\n"
     ]
    }
   ],
   "source": [
    "print(\"Count Robyn \" + str(len(lyrics_dict['cher'])))"
   ]
  },
  {
   "cell_type": "markdown",
   "metadata": {},
   "source": [
    "# Read Twitter Data"
   ]
  },
  {
   "cell_type": "code",
   "execution_count": 8,
   "metadata": {},
   "outputs": [],
   "source": [
    "description_artist = defaultdict(list)\n",
    "artist_folders = os.listdir(\"twitter\")\n",
    "handles = ['robynkonichiwa','cher']\n",
    "\n",
    "for artist in handles:\n",
    "    follower_data = artist + '_followers_data.txt'\n",
    "\n",
    "    with open('twitter/' + follower_data,'r', encoding = 'utf8') as infile:\n",
    "        headers = infile.readline().split(\"\\t\")\n",
    "\n",
    "        for idx, line in enumerate(infile.readlines()):\n",
    "            line = line.strip('\\n').split('\\t')\n",
    "            try:\n",
    "                description_artist[artist].append(line[6])\n",
    "            except:\n",
    "                pass"
   ]
  },
  {
   "cell_type": "code",
   "execution_count": 9,
   "metadata": {},
   "outputs": [
    {
     "name": "stdout",
     "output_type": "stream",
     "text": [
      "Count Robyn 358372\n",
      "Count Cher 3994803\n"
     ]
    }
   ],
   "source": [
    "print(\"Count Robyn \" + str(len(description_artist['robynkonichiwa'])))\n",
    "\n",
    "print(\"Count Cher \" + str(len(description_artist['cher'])))\n"
   ]
  },
  {
   "cell_type": "markdown",
   "metadata": {},
   "source": [
    "### Data Cleaning\n"
   ]
  },
  {
   "cell_type": "code",
   "execution_count": 10,
   "metadata": {},
   "outputs": [],
   "source": [
    "punctuation = set(punctuation) # speeds up comparison\n",
    "punctuation = punctuation - {'#'}\n",
    "\n",
    "stop_word = set(stopwords.words('english'))"
   ]
  },
  {
   "cell_type": "code",
   "execution_count": 11,
   "metadata": {},
   "outputs": [],
   "source": [
    "lyrics_clean = defaultdict(list)\n",
    "artist_folders = os.listdir(\"Lyrics\")\n",
    "artists = ['robyn','cher']\n",
    "lyrics = dict()\n",
    "\n",
    "for artist, value in lyrics_dict.items():\n",
    "    file_punctuation = dict()\n",
    "    for key2, value2 in value.items():\n",
    "        new_content = ''\n",
    "        for value3 in value2:\n",
    "            if value3 not in punctuation:\n",
    "                new_content = new_content + value3\n",
    "        new_content = ' '.join([x for x in new_content.lower().split() if x not in stop_word])\n",
    "        file_punctuation[key2] = new_content\n",
    "        \n",
    "    lyrics_clean[artist]=file_punctuation"
   ]
  },
  {
   "cell_type": "code",
   "execution_count": 12,
   "metadata": {},
   "outputs": [
    {
     "ename": "KeyboardInterrupt",
     "evalue": "",
     "output_type": "error",
     "traceback": [
      "\u001b[1;31m---------------------------------------------------------------------------\u001b[0m",
      "\u001b[1;31mKeyboardInterrupt\u001b[0m                         Traceback (most recent call last)",
      "\u001b[1;32m~\\AppData\\Local\\Temp/ipykernel_40780/1518389922.py\u001b[0m in \u001b[0;36m<module>\u001b[1;34m\u001b[0m\n\u001b[0;32m     23\u001b[0m                 \u001b[0morig_desc\u001b[0m\u001b[1;33m.\u001b[0m\u001b[0mreplace\u001b[0m\u001b[1;33m(\u001b[0m\u001b[0mp\u001b[0m\u001b[1;33m,\u001b[0m\u001b[1;34m\"\"\u001b[0m\u001b[1;33m)\u001b[0m\u001b[1;33m\u001b[0m\u001b[1;33m\u001b[0m\u001b[0m\n\u001b[0;32m     24\u001b[0m \u001b[1;33m\u001b[0m\u001b[0m\n\u001b[1;32m---> 25\u001b[1;33m             \u001b[0mclean_description_artist\u001b[0m\u001b[1;33m[\u001b[0m\u001b[0martist\u001b[0m\u001b[1;33m]\u001b[0m\u001b[1;33m+=\u001b[0m\u001b[0morig_desc\u001b[0m\u001b[1;33m\u001b[0m\u001b[1;33m\u001b[0m\u001b[0m\n\u001b[0m\u001b[0;32m     26\u001b[0m \u001b[1;33m\u001b[0m\u001b[0m\n\u001b[0;32m     27\u001b[0m \u001b[0mprint\u001b[0m\u001b[1;33m(\u001b[0m\u001b[0mclean_description_artist\u001b[0m\u001b[1;33m)\u001b[0m\u001b[1;33m\u001b[0m\u001b[1;33m\u001b[0m\u001b[0m\n",
      "\u001b[1;31mKeyboardInterrupt\u001b[0m: "
     ]
    }
   ],
   "source": [
    "clean_description_artist = {}\n",
    "artist_folders = os.listdir(\"Twitter\")\n",
    "handles = ['robynkonichiwa','cher']\n",
    "\n",
    "for artist in handles:\n",
    "    clean_description_artist[artist]=\"\"\n",
    "    follower_data = artist + '_followers_data.txt'\n",
    "    with open('twitter/' + follower_data,'r', encoding = 'utf8') as infile:\n",
    "        headers = infile.readline().split(\"\\t\")\n",
    "        for idx, line in enumerate(infile.readlines()):\n",
    "\n",
    "            orig_desc = line.split(\"\\t\")[6]\n",
    "            \n",
    "            orig_desc = orig_desc.replace('\\n',\"\")\n",
    "            orig_desc = orig_desc.replace('\\t',\"\")\n",
    "            \n",
    "            for sw in stop_word:\n",
    "                orig_desc.replace(sw,\"\")\n",
    "\n",
    "            orig_desc=orig_desc.lower()\n",
    "            \n",
    "            for p in punctuation:\n",
    "                orig_desc.replace(p,\"\")\n",
    "                \n",
    "            clean_description_artist[artist]+=orig_desc\n",
    "\n",
    "print(clean_description_artist)"
   ]
  },
  {
   "cell_type": "code",
   "execution_count": 13,
   "metadata": {},
   "outputs": [
    {
     "name": "stdout",
     "output_type": "stream",
     "text": [
      "Count Robyn 12943754\n",
      "Count Cher 15154579\n"
     ]
    }
   ],
   "source": [
    "print(\"Count Robyn \" + str(len(clean_description_artist['robynkonichiwa'])))\n",
    "\n",
    "print(\"Count Cher \" + str(len(clean_description_artist['cher'])))"
   ]
  },
  {
   "cell_type": "code",
   "execution_count": 14,
   "metadata": {},
   "outputs": [
    {
     "name": "stdout",
     "output_type": "stream",
     "text": [
      "There are 35916 tokens in the data.\n",
      "There are 3703 unique tokens in the data.\n",
      "There are 172634 characters in the data.\n",
      "The lexical diversity is 0.103 in the data.\n",
      "There are 15227 tokens in the data.\n",
      "There are 2156 unique tokens in the data.\n",
      "There are 73787 characters in the data.\n",
      "The lexical diversity is 0.142 in the data.\n",
      "There are 2233535 tokens in the data.\n",
      "There are 476888 unique tokens in the data.\n",
      "There are 12921045 characters in the data.\n",
      "The lexical diversity is 0.214 in the data.\n",
      "There are 1859715 tokens in the data.\n",
      "There are 423585 unique tokens in the data.\n",
      "There are 11084040 characters in the data.\n",
      "The lexical diversity is 0.228 in the data.\n"
     ]
    },
    {
     "data": {
      "text/plain": [
       "[1859715, 423585, 0.22776877102136617, 11084040]"
      ]
     },
     "execution_count": 14,
     "metadata": {},
     "output_type": "execute_result"
    }
   ],
   "source": [
    "# 4 calls - 2 for each artist (1 for lyrics / 1 for twitter)\n",
    "text = lyrics_clean['cher']\n",
    "full_lyrics_text_cher = \" \".join(lyrics_clean['cher'].values()).split()\n",
    "descriptive_stats(full_lyrics_text_cher, verbose=True)\n",
    "\n",
    "text = lyrics_clean['robyn']\n",
    "full_lyrics_text_robyn = \" \".join(lyrics_clean['robyn'].values()).split()\n",
    "descriptive_stats(full_lyrics_text_robyn, verbose=True)\n",
    "\n",
    "text = clean_description_artist['cher']\n",
    "full_description_text_cher = clean_description_artist['cher'].split()\n",
    "descriptive_stats(full_description_text_cher, verbose=True)\n",
    "\n",
    "text = clean_description_artist['robynkonichiwa']\n",
    "full_description_text_robyn = clean_description_artist['robynkonichiwa'].split()\n",
    "descriptive_stats(full_description_text_robyn, verbose=True)"
   ]
  },
  {
   "cell_type": "markdown",
   "metadata": {},
   "source": [
    "Q: How do you think the \"top 5 words\" would be different if we left stopwords in the data?\n",
    "\n",
    "A: It would be primarily be stopwords since they're the most commonly used words.\n",
    "\n",
    "Q: What were your prior beliefs about the lexical diversity between the artists? Does the difference (or lack thereof) in lexical diversity between the artists conform to your prior beliefs?\n",
    "\n",
    "A: I believed that one artist would have much more lexical diversity than another. This is true based on the data."
   ]
  },
  {
   "cell_type": "markdown",
   "metadata": {},
   "source": [
    "Emojis 😁\n",
    "\n",
    "What are the ten most common emojis by artist in the twitter descriptions?"
   ]
  },
  {
   "cell_type": "code",
   "execution_count": 40,
   "metadata": {},
   "outputs": [],
   "source": [
    "import regex\n",
    "from collections import Counter\n",
    "\n",
    "def split_count_emoji(text):\n",
    "    emoji_list = []\n",
    "    data = regex.findall(r'\\X', text)\n",
    "    for word in data:\n",
    "        if any(char in emoji.UNICODE_EMOJI['en'] for char in word):\n",
    "            emoji_list.append(word)\n",
    "    \n",
    "    return emoji_list\n",
    "\n",
    "artist_handles = ['cher','robynkonichiwa']\n",
    "\n",
    "counters_dict = {}\n",
    "\n",
    "for artist in artist_handles :\n",
    "    emoji_list= [] \n",
    "\n",
    "    followers_orig_desc = clean_description_artist[artist]\n",
    "    emoji_list = split_count_emoji(followers_orig_desc)\n",
    "    # if any(char in emoji.UNICODE_EMOJI['en'] for char in followers_orig_desc):\n",
    "    #     emoji_list.append(emoji)\n",
    "\n",
    "    counters_dict[artist]=collections.Counter(emoji_list)\n"
   ]
  },
  {
   "cell_type": "code",
   "execution_count": 48,
   "metadata": {},
   "outputs": [
    {
     "name": "stdout",
     "output_type": "stream",
     "text": [
      "[('🏳️\\u200d🌈', 6323), ('✨', 5983), ('❤️', 5753), ('🌊', 4286), ('💙', 4203), ('🌈', 3404), ('💜', 2930), ('❤', 2772), ('🖤', 2315), ('💕', 1732)]\n"
     ]
    }
   ],
   "source": [
    "from collections import OrderedDict\n",
    "from operator import itemgetter\n",
    "\n",
    "ordered_cher = OrderedDict(sorted(counters_dict['cher'].items(), key=itemgetter(1), reverse=True))\n",
    "\n",
    "topten = list(ordered_cher.items())[:10]\n",
    "print(topten)"
   ]
  },
  {
   "cell_type": "code",
   "execution_count": 49,
   "metadata": {},
   "outputs": [
    {
     "name": "stdout",
     "output_type": "stream",
     "text": [
      "[('🏳️\\u200d🌈', 3238), ('❤️', 2876), ('♥', 2876), ('✨', 2220), ('❤', 1765), ('🌈', 1417), ('💙', 809), ('💜', 739), ('🎶', 710), ('🖤', 615)]\n"
     ]
    }
   ],
   "source": [
    "ordered_robyn = OrderedDict(sorted(counters_dict['robynkonichiwa'].items(), key=itemgetter(1), reverse=True))\n",
    "\n",
    "topten = list(ordered_robyn.items())[:10]\n",
    "print(topten)"
   ]
  },
  {
   "cell_type": "markdown",
   "metadata": {},
   "source": [
    "Hashtags\n",
    "\n",
    "What are the ten most common hashtags by artist in the twitter descriptions?"
   ]
  },
  {
   "cell_type": "code",
   "execution_count": 32,
   "metadata": {},
   "outputs": [],
   "source": [
    "hashtag_dict = {}\n",
    "\n",
    "for artist in artist_handles :\n",
    "    hashtag_list= [] \n",
    "\n",
    "    followers_orig_desc = clean_description_artist[artist]\n",
    "    hashtag_list = re.findall(r\"#(\\w+)\", followers_orig_desc)\n",
    "    # if any(char in emoji.UNICODE_EMOJI['en'] for char in followers_orig_desc):\n",
    "    #     emoji_list.append(emoji)\n",
    "\n",
    "    hashtag_dict[artist]=Counter(hashtag_list)\n"
   ]
  },
  {
   "cell_type": "code",
   "execution_count": 51,
   "metadata": {},
   "outputs": [
    {
     "name": "stdout",
     "output_type": "stream",
     "text": [
      "[('blm', 2300), ('resist', 1411), ('blacklivesmatter', 1011), ('fbr', 420), ('lgbtq', 416), ('resister', 370), ('voteblue', 361), ('bidenharris', 351), ('1', 259), ('resistance', 253)]\n"
     ]
    }
   ],
   "source": [
    "ordered_cher = OrderedDict(sorted(hashtag_dict['cher'].items(), key=itemgetter(1), reverse=True))\n",
    "\n",
    "topten = list(ordered_cher.items())[:10]\n",
    "print(topten)"
   ]
  },
  {
   "cell_type": "code",
   "execution_count": 52,
   "metadata": {},
   "outputs": [
    {
     "name": "stdout",
     "output_type": "stream",
     "text": [
      "[('blacklivesmatter', 389), ('music', 286), ('blm', 271), ('1', 194), ('edm', 95), ('lgbtq', 83), ('teamfollowback', 76), ('travel', 70), ('art', 67), ('resist', 64)]\n"
     ]
    }
   ],
   "source": [
    "ordered_cher = OrderedDict(sorted(hashtag_dict['robynkonichiwa'].items(), key=itemgetter(1), reverse=True))\n",
    "\n",
    "topten = list(ordered_cher.items())[:10]\n",
    "print(topten)"
   ]
  },
  {
   "cell_type": "markdown",
   "metadata": {},
   "source": [
    "Song Lengths\n",
    "\n",
    "For each artist, a histogram of song lengths (in terms of number of tokens). If you put the song lengths in a data frame with an artist column, matplotlib will make the plotting quite easy. An example is given to help you out."
   ]
  },
  {
   "cell_type": "code",
   "execution_count": null,
   "metadata": {},
   "outputs": [
    {
     "data": {
      "text/plain": [
       "artist\n",
       "cher     AxesSubplot(0.125,0.125;0.775x0.755)\n",
       "robyn    AxesSubplot(0.125,0.125;0.775x0.755)\n",
       "Name: length, dtype: object"
      ]
     },
     "execution_count": 96,
     "metadata": {},
     "output_type": "execute_result"
    },
    {
     "data": {
      "image/png": "[encoded data removed]",
      "text/plain": [
       "<Figure size 432x288 with 1 Axes>"
      ]
     },
     "metadata": {
      "needs_background": "light"
     },
     "output_type": "display_data"
    }
   ],
   "source": [
    "num_replicates = 1000\n",
    "\n",
    "df = pd.DataFrame({\n",
    "    \"artist\" : ['cher'] * num_replicates + ['robyn']*num_replicates,\n",
    "    \"length\" : np.concatenate((np.random.poisson(125,num_replicates),np.random.poisson(150,num_replicates)))\n",
    "})\n",
    "\n",
    "df.groupby('artist')['length'].plot(kind=\"hist\",density=True,alpha=0.5,legend=True)"
   ]
  },
  {
   "cell_type": "markdown",
   "metadata": {},
   "source": [
    "Since the lyrics may be stored with carriage returns or tabs, it may be useful to have a function that can collapse whitespace, using regular expressions, and be used for splitting.\n",
    "\n",
    "Q: What does the regular expression '\\s+' match on?\n",
    "\n",
    "A: It will match on one or more whitespace characters."
   ]
  },
  {
   "cell_type": "code",
   "execution_count": null,
   "metadata": {},
   "outputs": [],
   "source": [
    "collapse_whitespace = re.compile(r'\\s+')\n",
    "\n",
    "def tokenize_lyrics(lyric) : \n",
    "    \"\"\"strip and split on whitespace\"\"\"\n",
    "    return([item.lower() for item in collapse_whitespace.split(lyric)])"
   ]
  },
  {
   "cell_type": "code",
   "execution_count": null,
   "metadata": {},
   "outputs": [],
   "source": [
    "lyrics_clean = defaultdict(list)\n",
    "artist_folders = os.listdir(\"Lyrics\")\n",
    "artists = ['robyn','cher']\n",
    "\n",
    "#Tokenize whitespace using function provided\n",
    "\n",
    "for artist, value in lyrics.items():\n",
    "    tokenize_lyrics\n"
   ]
  },
  {
   "cell_type": "code",
   "execution_count": null,
   "metadata": {},
   "outputs": [
    {
     "data": {
      "text/plain": [
       "artist\n",
       "cher     AxesSubplot(0.125,0.125;0.775x0.755)\n",
       "robyn    AxesSubplot(0.125,0.125;0.775x0.755)\n",
       "Name: length, dtype: object"
      ]
     },
     "execution_count": 99,
     "metadata": {},
     "output_type": "execute_result"
    },
    {
     "data": {
      "image/png": "[encoded data removed]",
      "text/plain": [
       "<Figure size 432x288 with 1 Axes>"
      ]
     },
     "metadata": {
      "needs_background": "light"
     },
     "output_type": "display_data"
    }
   ],
   "source": [
    "df = pd.DataFrame({\n",
    "    \"artist\" : ['cher'] * num_replicates + ['robyn']*num_replicates,\n",
    "    \"length\" : np.concatenate((np.random.poisson(125,num_replicates),np.random.poisson(150,num_replicates)))\n",
    "})\n",
    "\n",
    "df.groupby('artist')['length'].plot(kind=\"hist\",density=True,alpha=0.5,legend=True)\n",
    "\n",
    "# More tokens are present because whitespaces are collapsed."
   ]
  }
 ],
 "metadata": {
  "interpreter": {
   "hash": "c21f4b550d44dd8da30efeda0f3fb842b1394f99ed710ddf513c5093383f4f73"
  },
  "kernelspec": {
   "display_name": "Python 3.9.7 ('base')",
   "language": "python",
   "name": "python3"
  },
  "language_info": {
   "codemirror_mode": {
    "name": "ipython",
    "version": 3
   },
   "file_extension": ".py",
   "mimetype": "text/x-python",
   "name": "python",
   "nbconvert_exporter": "python",
   "pygments_lexer": "ipython3",
   "version": "3.9.7"
  },
  "orig_nbformat": 4
 },
 "nbformat": 4,
 "nbformat_minor": 2
}
